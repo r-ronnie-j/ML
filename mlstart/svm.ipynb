{
 "cells": [
  {
   "cell_type": "code",
   "execution_count": 29,
   "metadata": {},
   "outputs": [
    {
     "name": "stdout",
     "output_type": "stream",
     "text": [
      "Optimized the step\n",
      "Optimized the step\n",
      "Optimized the step\n",
      "1.0\n"
     ]
    },
    {
     "data": {
      "image/png": "[encoded data removed]",
      "text/plain": [
       "<Figure size 432x288 with 1 Axes>"
      ]
     },
     "metadata": {},
     "output_type": "display_data"
    }
   ],
   "source": [
    "import matplotlib\n",
    "import numpy as np;\n",
    "from matplotlib import style\n",
    "import matplotlib.pyplot as plt;\n",
    "\n",
    "style.use('ggplot')\n",
    "\n",
    "class support_vm:\n",
    "    def __init__(self,visualization = True):\n",
    "        self.visualization = visualization\n",
    "        self.colors = {1:'r',-1:'b'}\n",
    "        if(self.visualization):\n",
    "            self.ax= plt\n",
    "\n",
    "    def fit(self,data):\n",
    "        self.data = data\n",
    "        all_data = []\n",
    "        opt_dict ={}\n",
    "        transform =((1,1),(1,-1),(-1,1),(-1,-1))\n",
    "        for yi in self.data:\n",
    "            for features in self.data[yi]:\n",
    "                for feature in features:\n",
    "                    all_data.append(feature)\n",
    "        self.max_feature_value = max(all_data)\n",
    "        self.min_feature_value = min(all_data)\n",
    "        all_data = None\n",
    "        step_sizes = [self.max_feature_value*0.1,self.max_feature_value*0.01,self.max_feature_value*0.005]\n",
    "        b_range_multiple = 5\n",
    "        b_multiple =5\n",
    "        latest_optimum = self.max_feature_value * 10\n",
    "        for step in step_sizes:\n",
    "            w= np.array([latest_optimum,latest_optimum])\n",
    "            optimized  = False\n",
    "            while not optimized:\n",
    "                for b in np.arange(-1*self.max_feature_value*b_range_multiple,self.max_feature_value*b_range_multiple,step*b_multiple):\n",
    "                    for transformation in transform:\n",
    "                        w_t = w * transformation\n",
    "                        found_option = True\n",
    "                        for i in  self.data:\n",
    "                            for xi in self.data[i]:\n",
    "                                yi = i\n",
    "                                if not yi*(np.dot(w_t,xi)+b)>= 1:\n",
    "                                    found_option = False\n",
    "                                \n",
    "                        if found_option:\n",
    "                            opt_dict[np.linalg.norm(w_t)] = [w_t,b]\n",
    "\n",
    "                if w[0]<0:\n",
    "                    optimized = True\n",
    "                    print('Optimized the step')\n",
    "                else:\n",
    "                    w = w - step\n",
    "\n",
    "            if(len(opt_dict)>0):\n",
    "                norms = sorted([n for n in opt_dict])\n",
    "                opt_choice = opt_dict[norms[0]]\n",
    "                self.w = opt_choice[0]\n",
    "                self.b = opt_choice[1]\n",
    "                latest_optimum = opt_choice[0][0] + step * 2\n",
    "           \n",
    "                       \n",
    "    def predict(self,params):\n",
    "        classification = np.sign(np.dot(np.array(params),self.w)+self.b)\n",
    "        if classification != 0 and self.visualization:\n",
    "            self.ax.scatter(params[0],params[1],s=200,marker='*',c=self.colors[classification])\n",
    "        return classification\n",
    "\n",
    "    def visualize(self):\n",
    "        [[self.ax.scatter(x=x[0],y=x[1],s=100,c=self.colors[i]) for x in data_dict[i]] for i in data_dict]\n",
    "        self.ax.scatter(x=4,y=2,s=100)\n",
    "        def hyperplane(x,w,b,v):\n",
    "            return (-w[0]*x -b+v)/w[1]\n",
    "\n",
    "        datarange = (self.min_feature_value*0.9,self.max_feature_value *1.1)\n",
    "        hyp_x_min = datarange[0]\n",
    "        hyp_x_max = datarange[1]\n",
    "\n",
    "        psv1 = hyperplane(hyp_x_min,self.w,self.b,1)\n",
    "        psv2 = hyperplane(hyp_x_max,self.w,self.b,1)\n",
    "        self.ax.plot([hyp_x_min,hyp_x_max],[psv1,psv2])\n",
    "\n",
    "\n",
    "        nsv1 = hyperplane(hyp_x_min,self.w,self.b,-1)\n",
    "        nsv2 = hyperplane(hyp_x_max,self.w,self.b,-1)\n",
    "        self.ax.plot([hyp_x_min,hyp_x_max],[nsv1,nsv2])\n",
    "\n",
    "        db1 = hyperplane(hyp_x_min,self.w,self.b,0)\n",
    "        db2 = hyperplane(hyp_x_max,self.w,self.b,0)\n",
    "        self.ax.plot([hyp_x_min,hyp_x_max],[db1,db2])\n",
    "\n",
    "data_dict = {\n",
    "    -1:np.array([[1,7],[2,8],[3,6],[3,8]]),\n",
    "    1:np.array([[5,1],[6,-1],[7,3]])\n",
    "}\n",
    "\n",
    "svm = support_vm()\n",
    "svm.fit(data_dict)\n",
    "svm.visualize()\n",
    "print(svm.predict([5,4]))\n",
    "\n"
   ]
  }
 ],
 "metadata": {
  "kernelspec": {
   "display_name": "Python 3.9.7 ('base')",
   "language": "python",
   "name": "python3"
  },
  "language_info": {
   "codemirror_mode": {
    "name": "ipython",
    "version": 3
   },
   "file_extension": ".py",
   "mimetype": "text/x-python",
   "name": "python",
   "nbconvert_exporter": "python",
   "pygments_lexer": "ipython3",
   "version": "3.9.7"
  },
  "orig_nbformat": 4,
  "vscode": {
   "interpreter": {
    "hash": "b81e64bcff352973bc9150e3b61309d373b435307ba5bb25d050f439c27d39d1"
   }
  }
 },
 "nbformat": 4,
 "nbformat_minor": 2
}
